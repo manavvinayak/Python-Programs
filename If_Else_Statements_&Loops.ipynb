{
  "nbformat": 4,
  "nbformat_minor": 0,
  "metadata": {
    "colab": {
      "provenance": [],
      "authorship_tag": "ABX9TyOASozKwguV0VfmRPFmT150",
      "include_colab_link": true
    },
    "kernelspec": {
      "name": "python3",
      "display_name": "Python 3"
    },
    "language_info": {
      "name": "python"
    }
  },
  "cells": [
    {
      "cell_type": "markdown",
      "metadata": {
        "id": "view-in-github",
        "colab_type": "text"
      },
      "source": [
        "<a href=\"https://colab.research.google.com/github/manavvinayak/Python-Programs/blob/main/If_Else_Statements_%26Loops.ipynb\" target=\"_parent\"><img src=\"https://colab.research.google.com/assets/colab-badge.svg\" alt=\"Open In Colab\"/></a>"
      ]
    },
    {
      "cell_type": "markdown",
      "source": [
        "Here we briefed about If Else statements and loops in python"
      ],
      "metadata": {
        "id": "wRefT7wERRpk"
      }
    },
    {
      "cell_type": "code",
      "source": [
        "#If Else\n",
        "a=int(input(\"Enter the first number:\"))\n",
        "b=int(input(\"Enter the Second number:\"))\n",
        "if(a>b):\n",
        "  print('out of two numbers, greatest number is:',a)\n",
        "  #Note that indendation (spacing) matters a lot in  these statements\n",
        "else:\n",
        "  print('out of two no.s, greatest no. is:',b)"
      ],
      "metadata": {
        "colab": {
          "base_uri": "https://localhost:8080/"
        },
        "id": "NX-p16ZcRLfT",
        "outputId": "6b8b131e-1ec2-4e45-d4b2-1da7054c1921"
      },
      "execution_count": 3,
      "outputs": [
        {
          "output_type": "stream",
          "name": "stdout",
          "text": [
            "Enter the first number:23\n",
            "Enter the Second number:56\n",
            "out of two no.s, greatest no. is: 56\n"
          ]
        }
      ]
    },
    {
      "cell_type": "code",
      "source": [
        "#Multiple If Else statements\n",
        "#To find greatest number among three numbers\n",
        "a=int(input(\"Enter the First number:\"))\n",
        "b=int(input(\"Enter the Second number:\"))\n",
        "c=int(input(\"Enter the Third number:\"))\n",
        "if(b<a>c):\n",
        " print(a,'is the greatest number')\n",
        "elif(a<b>c):\n",
        "  print(b,'is the greatest number')\n",
        "else:\n",
        "    print(c,'is the greatest number')"
      ],
      "metadata": {
        "colab": {
          "base_uri": "https://localhost:8080/"
        },
        "id": "q0JIFg5mTHLW",
        "outputId": "3ad78fe0-77e9-47fb-9fc9-804ad43c3a6b"
      },
      "execution_count": 5,
      "outputs": [
        {
          "output_type": "stream",
          "name": "stdout",
          "text": [
            "Enter the First number:45\n",
            "Enter the Second number:32\n",
            "Enter the Third number:56\n",
            "56 is the greatest number\n"
          ]
        }
      ]
    },
    {
      "cell_type": "markdown",
      "source": [
        "In Python a Nested if statement, we can have an if…elif…else statement inside another if…elif…else statement. This is called nesting in computer programming. Any number of these statements can be nested inside one another. Indentation is the only way to figure out the level of nesting. This can get confusing, so it must be avoided if we can."
      ],
      "metadata": {
        "id": "5UKiJv0qW_Q9"
      }
    },
    {
      "cell_type": "code",
      "source": [
        "#Nested If Else\n",
        "a=int(input(\"Enter the First number:\"))\n",
        "b=int(input(\"Enter the Second number:\"))\n",
        "c=int(input(\"Enter the Third number:\"))\n",
        "if(a>b):\n",
        "  if(a>c):\n",
        "    print(a,'is greatest!')\n",
        "  else:\n",
        "    print(c,'is greatest!')\n",
        "else:\n",
        "   if(b>c):\n",
        "    print(b,'is greatest!')\n",
        "   else:\n",
        "    print(c,'is greatest!')\n",
        "\n"
      ],
      "metadata": {
        "colab": {
          "base_uri": "https://localhost:8080/"
        },
        "id": "ROlU7XigXCvs",
        "outputId": "b95a29b9-184f-48d7-e303-cbd14557a9ed"
      },
      "execution_count": 24,
      "outputs": [
        {
          "output_type": "stream",
          "name": "stdout",
          "text": [
            "Enter the First number:3\n",
            "Enter the Second number:5\n",
            "Enter the Third number:7\n",
            "7 is greatest!\n"
          ]
        }
      ]
    },
    {
      "cell_type": "markdown",
      "source": [
        "**Loops**:A loop is an instruction that repeats multiple times as long as some condition is True.*There are for in loop,while loop & nested loops.*For loops are used for sequential traversal. For example: traversing a list or string or array etc. In Python, there is “for in” loop which is similar to foreach loop in other languages"
      ],
      "metadata": {
        "id": "WPggFvDnZ1kA"
      }
    },
    {
      "cell_type": "code",
      "source": [
        "for i in range(5):\n",
        "  # i is any variable,range(5) means 0,1,2,3,4\n",
        "\n",
        "  laptop=int(input(\"Enter price of Laptops:\"))"
      ],
      "metadata": {
        "colab": {
          "base_uri": "https://localhost:8080/"
        },
        "id": "z0WAauNAaknE",
        "outputId": "d8afa644-485f-4d78-cff5-d05ad89f9114"
      },
      "execution_count": 28,
      "outputs": [
        {
          "name": "stdout",
          "output_type": "stream",
          "text": [
            "Enter price of Laptops:23000\n",
            "Enter price of Laptops:45000\n",
            "Enter price of Laptops:120000\n",
            "Enter price of Laptops:60000\n",
            "Enter price of Laptops:56000\n"
          ]
        }
      ]
    },
    {
      "cell_type": "code",
      "source": [
        "numbers=[50,30,23,45,36,54]\n",
        "for i in numbers:\n",
        "    print(i)"
      ],
      "metadata": {
        "colab": {
          "base_uri": "https://localhost:8080/"
        },
        "id": "NPmO2HKFbiba",
        "outputId": "b104d26e-c8bf-473b-854a-120a2142209e"
      },
      "execution_count": 30,
      "outputs": [
        {
          "output_type": "stream",
          "name": "stdout",
          "text": [
            "50\n",
            "30\n",
            "23\n",
            "45\n",
            "36\n",
            "54\n"
          ]
        }
      ]
    },
    {
      "cell_type": "code",
      "source": [
        "odd=[1, 3, 5, 7, 9, 11, 13, 15, 17, 19, 21, 23, 25, 27,]\n",
        "for i in odd:\n",
        "   print(i)"
      ],
      "metadata": {
        "colab": {
          "base_uri": "https://localhost:8080/"
        },
        "id": "gWqafAehb2wW",
        "outputId": "870fb653-f16c-4766-8896-4552be1eccf1"
      },
      "execution_count": 32,
      "outputs": [
        {
          "output_type": "stream",
          "name": "stdout",
          "text": [
            "1\n",
            "3\n",
            "5\n",
            "7\n",
            "9\n",
            "11\n",
            "13\n",
            "15\n",
            "17\n",
            "19\n",
            "21\n",
            "23\n",
            "25\n",
            "27\n"
          ]
        }
      ]
    },
    {
      "cell_type": "markdown",
      "source": [
        "**While Loops**:Python While Loop is used to execute a block of statements repeatedly until a given condition is satisfied. When the condition becomes false, the line immediately after the loop in the program is executed."
      ],
      "metadata": {
        "id": "Su8SwS1WcZO6"
      }
    },
    {
      "cell_type": "code",
      "source": [
        "i=0 #initialising i to be 0,so that  output begins from 0!\n",
        "while i<10: #this statement shows the while loop runs whenever value of i will be lesser than 10\n",
        "  print(i)\n",
        "  i +=1 # i=i+1,after every round i will be incremented by 1"
      ],
      "metadata": {
        "colab": {
          "base_uri": "https://localhost:8080/"
        },
        "id": "E_XRhIW1cux0",
        "outputId": "8497956c-0891-40ae-fac0-147d381f5426"
      },
      "execution_count": 35,
      "outputs": [
        {
          "output_type": "stream",
          "name": "stdout",
          "text": [
            "0\n",
            "1\n",
            "2\n",
            "3\n",
            "4\n",
            "5\n",
            "6\n",
            "7\n",
            "8\n",
            "9\n"
          ]
        }
      ]
    }
  ]
}