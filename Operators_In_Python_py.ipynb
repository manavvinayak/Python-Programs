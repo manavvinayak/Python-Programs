{
  "nbformat": 4,
  "nbformat_minor": 0,
  "metadata": {
    "colab": {
      "provenance": [],
      "authorship_tag": "ABX9TyMw6s0QNpoM7sevPav2x+mX",
      "include_colab_link": true
    },
    "kernelspec": {
      "name": "python3",
      "display_name": "Python 3"
    },
    "language_info": {
      "name": "python"
    }
  },
  "cells": [
    {
      "cell_type": "markdown",
      "metadata": {
        "id": "view-in-github",
        "colab_type": "text"
      },
      "source": [
        "<a href=\"https://colab.research.google.com/github/manavvinayak/Python-Programs/blob/main/Operators_In_Python_py.ipynb\" target=\"_parent\"><img src=\"https://colab.research.google.com/assets/colab-badge.svg\" alt=\"Open In Colab\"/></a>"
      ]
    },
    {
      "cell_type": "markdown",
      "source": [
        "Main Operators in Python is discussed here"
      ],
      "metadata": {
        "id": "c2uoT8bwgomd"
      }
    },
    {
      "cell_type": "markdown",
      "source": [
        "Arithematic Operators"
      ],
      "metadata": {
        "id": "Z-VdTHwnP4Un"
      }
    },
    {
      "cell_type": "code",
      "source": [
        "num_1=40\n",
        "num_2=30\n",
        "sum=num_1 + num_2\n",
        "print(\"the sum is\",sum)\n",
        "diff=num_1 - num_2\n",
        "print(\"The difference is\",diff)\n",
        "multi=num_1 * num_2\n",
        "print(\"The multiplication of two numbers is\",multi)\n",
        "divide= num_1 / num_2\n",
        "print(\"the division is\",divide)\n",
        "power=num_1 ** num_2\n",
        "print(\"The Exponent will be \",power)\n",
        "mod=  num_1 % num_2\n",
        "print(\"the modulus will be:\",mod)\n",
        "# Modulus answer is the remainder left after division"
      ],
      "metadata": {
        "colab": {
          "base_uri": "https://localhost:8080/"
        },
        "id": "t6So9bLxP-EL",
        "outputId": "0129f013-a0ef-4cea-cad2-21a96fdb2bf4"
      },
      "execution_count": 9,
      "outputs": [
        {
          "output_type": "stream",
          "name": "stdout",
          "text": [
            "the sum is 70\n",
            "The difference is 10\n",
            "The multiplication of two numbers is 1200\n",
            "the division is 1.3333333333333333\n",
            "The Exponent will be  1152921504606846976000000000000000000000000000000\n",
            "the modulus will be: 10\n"
          ]
        }
      ]
    },
    {
      "cell_type": "markdown",
      "source": [
        "Assignment Operators"
      ],
      "metadata": {
        "id": "s4wTUcweS1_7"
      }
    },
    {
      "cell_type": "code",
      "source": [
        "a=5\n",
        "print(a)\n",
        "a += 5 # a= a+5\n",
        "print(a)\n",
        "a -= 1 # a= a-1\n",
        "print(a)\n",
        "a *= 4 # a= a*4\n",
        "print(a)\n",
        "a /= 5 # a= a/5\n",
        "print(a)\n",
        "a **= 2 # a= a**2\n",
        "print(a)\n",
        "a %=6 # a= a% 6\n",
        "print(a)\n",
        "# Note here that everytime python takes the updated value of a,that's why you are seeing a different result"
      ],
      "metadata": {
        "colab": {
          "base_uri": "https://localhost:8080/"
        },
        "id": "MH6isSLkS6Mv",
        "outputId": "2e0ca435-1dbc-430b-d38d-f514944dc775"
      },
      "execution_count": 16,
      "outputs": [
        {
          "output_type": "stream",
          "name": "stdout",
          "text": [
            "5\n",
            "10\n",
            "9\n",
            "36\n",
            "7.2\n",
            "51.84\n",
            "3.8400000000000034\n"
          ]
        }
      ]
    },
    {
      "cell_type": "markdown",
      "source": [
        "Comparison Operators"
      ],
      "metadata": {
        "id": "Z0ywG4wZUaL4"
      }
    },
    {
      "cell_type": "code",
      "source": [
        "a=5\n",
        "b=10\n",
        "print(a == b) #Py will check whether a will be equal to b\n",
        "print(a != b) #Py will check whether a is not equal to b\n",
        "print( a> b) #Py will check whether a is greater than b\n",
        "print(a < b) #Py will check whether a is lesser than b\n",
        "print(a <= b) #Py will check whether a is lesser or equal to b\n",
        "print(a >= b) #Py will check whether a is greater or equal to b"
      ],
      "metadata": {
        "colab": {
          "base_uri": "https://localhost:8080/"
        },
        "id": "wgiRP8gWUhB5",
        "outputId": "6b659d32-5f34-48fc-d217-60bd8d3427a3"
      },
      "execution_count": 19,
      "outputs": [
        {
          "output_type": "stream",
          "name": "stdout",
          "text": [
            "False\n",
            "True\n",
            "False\n",
            "True\n",
            "True\n",
            "False\n"
          ]
        }
      ]
    },
    {
      "cell_type": "markdown",
      "source": [
        "Logical Operators"
      ],
      "metadata": {
        "id": "gE5finSoZeJt"
      }
    },
    {
      "cell_type": "code",
      "source": [
        "# And Operator\n",
        "a = 10\n",
        "print(a>20) and a>75\n",
        "# For AND operator ,both conditions should be true for getting ouput as True\n",
        "print ( a>15 or a>5)\n",
        "# But in OR operator if any of the condition is true then output is also True"
      ],
      "metadata": {
        "colab": {
          "base_uri": "https://localhost:8080/"
        },
        "id": "o9VYdmQRZgzI",
        "outputId": "9c95cf94-4a2d-438e-a1f9-042289be13c5"
      },
      "execution_count": 21,
      "outputs": [
        {
          "output_type": "stream",
          "name": "stdout",
          "text": [
            "False\n",
            "True\n"
          ]
        }
      ]
    },
    {
      "cell_type": "markdown",
      "source": [
        "Identity Operator:It includes \"is, is not\""
      ],
      "metadata": {
        "id": "RSwoHFwAep-5"
      }
    },
    {
      "cell_type": "code",
      "source": [
        "x = 5\n",
        "y = 5\n",
        "print( x is y)\n",
        "print(x is not y)"
      ],
      "metadata": {
        "colab": {
          "base_uri": "https://localhost:8080/"
        },
        "id": "O5FD53khet3_",
        "outputId": "7f8783cd-2ff2-460a-8e96-ad710ec135da"
      },
      "execution_count": 23,
      "outputs": [
        {
          "output_type": "stream",
          "name": "stdout",
          "text": [
            "True\n",
            "False\n"
          ]
        }
      ]
    },
    {
      "cell_type": "markdown",
      "source": [
        "Membership Operator (Belonging to operator):It includes \"in and not in\"."
      ],
      "metadata": {
        "id": "2x2pKkvofTUU"
      }
    },
    {
      "cell_type": "code",
      "source": [
        "a = 5\n",
        "b = 10\n",
        "c=[1,2,3,4,5]\n",
        "print(a in c) #Py will check if value of a is present in c\n",
        "print(b not in c) # Py will check if value of b is not present in c"
      ],
      "metadata": {
        "colab": {
          "base_uri": "https://localhost:8080/"
        },
        "id": "zyNssC8nfobX",
        "outputId": "065fc25b-42e0-4d99-e7f2-8adbe66f79e3"
      },
      "execution_count": 24,
      "outputs": [
        {
          "output_type": "stream",
          "name": "stdout",
          "text": [
            "True\n",
            "True\n"
          ]
        }
      ]
    }
  ]
}