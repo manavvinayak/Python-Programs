{
  "nbformat": 4,
  "nbformat_minor": 0,
  "metadata": {
    "colab": {
      "provenance": [],
      "authorship_tag": "ABX9TyOnViR02TOypBXJCChhKBTC",
      "include_colab_link": true
    },
    "kernelspec": {
      "name": "python3",
      "display_name": "Python 3"
    },
    "language_info": {
      "name": "python"
    }
  },
  "cells": [
    {
      "cell_type": "markdown",
      "metadata": {
        "id": "view-in-github",
        "colab_type": "text"
      },
      "source": [
        "<a href=\"https://colab.research.google.com/github/manavvinayak/Python-Programs/blob/main/Intro_to_Python.ipynb\" target=\"_parent\"><img src=\"https://colab.research.google.com/assets/colab-badge.svg\" alt=\"Open In Colab\"/></a>"
      ]
    },
    {
      "cell_type": "code",
      "execution_count": null,
      "metadata": {
        "id": "8mDFc1xfamso",
        "colab": {
          "base_uri": "https://localhost:8080/"
        },
        "outputId": "8e5119b8-e3e2-474c-9875-58d34bc888cd"
      },
      "outputs": [
        {
          "output_type": "stream",
          "name": "stdout",
          "text": [
            "Machine\n",
            "MachineLearning\n"
          ]
        }
      ],
      "source": [
        "print(\"Machine\")\n",
        "print(\"Machine\" + \"Learning\")\n",
        "#only strings and alphabets are enclosed in double inverted commas"
      ]
    },
    {
      "cell_type": "code",
      "source": [
        "# for numbers\n",
        "print(5)\n",
        "#For checking type of the constraints\n",
        "type(\"English\")\n",
        "type(9)\n",
        "type(9.8)"
      ],
      "metadata": {
        "colab": {
          "base_uri": "https://localhost:8080/"
        },
        "id": "nf7AoH3J5w_R",
        "outputId": "4eb7508e-365a-4c4f-8312-67f4ae93cc4f"
      },
      "execution_count": null,
      "outputs": [
        {
          "output_type": "stream",
          "name": "stdout",
          "text": [
            "5\n"
          ]
        },
        {
          "output_type": "execute_result",
          "data": {
            "text/plain": [
              "float"
            ]
          },
          "metadata": {},
          "execution_count": 6
        }
      ]
    },
    {
      "cell_type": "code",
      "source": [
        "#Constants\n",
        "superhero=\"IronMan\"\n",
        "print(superhero)"
      ],
      "metadata": {
        "colab": {
          "base_uri": "https://localhost:8080/"
        },
        "id": "vI-wZ1OU6JIN",
        "outputId": "2385f4b5-5287-4406-a7bd-bc752d7e7ed5"
      },
      "execution_count": null,
      "outputs": [
        {
          "output_type": "stream",
          "name": "stdout",
          "text": [
            "IronMan\n"
          ]
        }
      ]
    },
    {
      "cell_type": "code",
      "source": [
        "#Input Function\n",
        "num_1=int(input(\"Enter the first number:\"))\n",
        "num_2=int(input(\"Enter the second number:\"))\n",
        "sum = num_1 + num_2\n",
        "print(sum)"
      ],
      "metadata": {
        "colab": {
          "base_uri": "https://localhost:8080/"
        },
        "id": "Hc1praW86Scq",
        "outputId": "96bd9d1b-4031-4281-9c8b-9a86a25b87d4"
      },
      "execution_count": 12,
      "outputs": [
        {
          "output_type": "stream",
          "name": "stdout",
          "text": [
            "Enter the first number:50\n",
            "Enter the second number:5\n",
            "55\n"
          ]
        }
      ]
    },
    {
      "cell_type": "code",
      "source": [
        "#lists\n",
        "my_list=[1,3,4,5]\n",
        "print(my_list)\n",
        "type(my_list)\n"
      ],
      "metadata": {
        "colab": {
          "base_uri": "https://localhost:8080/"
        },
        "id": "6XyVOdeGF2fd",
        "outputId": "dc35c346-9408-4291-eb5b-60e169758e57"
      },
      "execution_count": 14,
      "outputs": [
        {
          "output_type": "stream",
          "name": "stdout",
          "text": [
            "[1, 3, 4, 5]\n"
          ]
        }
      ]
    },
    {
      "cell_type": "code",
      "source": [
        "# lists are mutable,they can be changed\n",
        "my_list=[2,4,3]\n",
        "my_list.append(6)\n",
        "\n",
        "# Also Lists allows duplicate values\n",
        "print(len(my_list))\n",
        "#iniating a empty list\n",
        "list_2=[]\n",
        "print(list_2)\n",
        "list_2.append(5)\n",
        "print(list_2)\n",
        "del list_2[0]\n",
        "print(list_2)\n",
        "# Join two lists\n",
        "list_3=[3,4,5]\n",
        "list_4=[5,6,7]\n",
        "list_5= list_3 + list_4\n",
        "print(list_5)\n",
        "\n"
      ],
      "metadata": {
        "colab": {
          "base_uri": "https://localhost:8080/"
        },
        "id": "bd0S-aZxGQ-t",
        "outputId": "84b6e21e-d115-45ae-f60d-5c81f0e4854b"
      },
      "execution_count": 24,
      "outputs": [
        {
          "output_type": "stream",
          "name": "stdout",
          "text": [
            "4\n",
            "[]\n",
            "[5]\n",
            "[]\n",
            "[3, 4, 5, 5, 6, 7]\n"
          ]
        }
      ]
    },
    {
      "cell_type": "markdown",
      "source": [
        "Tuples\n",
        "once element is created here,we can not change it"
      ],
      "metadata": {
        "id": "ChOecGJqHoIH"
      }
    },
    {
      "cell_type": "code",
      "source": [
        "tuple_1=(1,2,3,4)\n",
        "print(tuple_1)\n",
        "type(tuple_1)\n",
        "print(len(tuple_1))\n",
        "# Convert list to tuple\n",
        "my_list=[1,2,3,4,5]\n",
        "my_tuple=tuple(my_list)\n",
        "print(my_tuple)\n",
        "print(my_tuple[2])"
      ],
      "metadata": {
        "colab": {
          "base_uri": "https://localhost:8080/"
        },
        "id": "jkvm0kPJHqUQ",
        "outputId": "0608163a-2804-48bf-a2e8-911ea25f7d1b"
      },
      "execution_count": 28,
      "outputs": [
        {
          "output_type": "stream",
          "name": "stdout",
          "text": [
            "(1, 2, 3, 4)\n",
            "4\n",
            "(1, 2, 3, 4, 5)\n",
            "3\n"
          ]
        }
      ]
    },
    {
      "cell_type": "markdown",
      "source": [
        "Set\n",
        "It is enclosed in curly brackets\n",
        "Set does not support indexing"
      ],
      "metadata": {
        "id": "otltPLVOInt2"
      }
    },
    {
      "cell_type": "code",
      "source": [
        "my_set={1,3,4,5}\n",
        "print(my_set)\n",
        "type(my_set)\n",
        "# Convert List to Set\n",
        "list_5=[4,5,6,7]\n",
        "print(list_5)\n",
        "set_1=set(list_5)\n",
        "print(set_1)\n",
        "#Set does not allow duplicate values\n",
        "set_2={1,2,3,1,2}\n",
        "print(set_2)"
      ],
      "metadata": {
        "colab": {
          "base_uri": "https://localhost:8080/"
        },
        "id": "19-DWBz4Iz1E",
        "outputId": "64122f26-0b24-4af5-9e15-2fe92b696a1d"
      },
      "execution_count": 33,
      "outputs": [
        {
          "output_type": "stream",
          "name": "stdout",
          "text": [
            "{1, 3, 4, 5}\n",
            "[4, 5, 6, 7]\n",
            "{4, 5, 6, 7}\n",
            "{1, 2, 3}\n"
          ]
        }
      ]
    },
    {
      "cell_type": "markdown",
      "source": [
        "Dictionary: It has \"Key Value Pair\", each value has a key"
      ],
      "metadata": {
        "id": "2Yufr6ooJtWa"
      }
    },
    {
      "cell_type": "code",
      "source": [
        "my_dictionary={'name':'Vinayak','age':21,'country':'India'}\n",
        "print(my_dictionary['name'])\n",
        "print(my_dictionary['age'])\n",
        "print(my_dictionary['country'])\n",
        "# Dictionaries does not allow duplicate /repeated values\n",
        "\n"
      ],
      "metadata": {
        "colab": {
          "base_uri": "https://localhost:8080/"
        },
        "id": "Ms7D7u3XJ8Ml",
        "outputId": "67c8ccca-75d9-453a-cd8a-cec28f73bc18"
      },
      "execution_count": 40,
      "outputs": [
        {
          "output_type": "stream",
          "name": "stdout",
          "text": [
            "Vinayak\n",
            "21\n",
            "India\n"
          ]
        }
      ]
    }
  ]
}