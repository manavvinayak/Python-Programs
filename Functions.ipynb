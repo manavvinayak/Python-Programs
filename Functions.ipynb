{
  "nbformat": 4,
  "nbformat_minor": 0,
  "metadata": {
    "colab": {
      "provenance": [],
      "authorship_tag": "ABX9TyNdBD7eTqE5irroKByZmrJU",
      "include_colab_link": true
    },
    "kernelspec": {
      "name": "python3",
      "display_name": "Python 3"
    },
    "language_info": {
      "name": "python"
    }
  },
  "cells": [
    {
      "cell_type": "markdown",
      "metadata": {
        "id": "view-in-github",
        "colab_type": "text"
      },
      "source": [
        "<a href=\"https://colab.research.google.com/github/manavvinayak/Python-Programs/blob/main/Functions.ipynb\" target=\"_parent\"><img src=\"https://colab.research.google.com/assets/colab-badge.svg\" alt=\"Open In Colab\"/></a>"
      ]
    },
    {
      "cell_type": "markdown",
      "source": [
        "# **Functions:**\n",
        "\n",
        "Functions can be used as a block of code than can be reused in a program.*A function is a block of code which only runs when it is called.\n",
        "You can pass data, known as parameters, into a function.A function can return data as a result*."
      ],
      "metadata": {
        "id": "fcamsJinNiac"
      }
    },
    {
      "cell_type": "code",
      "execution_count": null,
      "metadata": {
        "colab": {
          "base_uri": "https://localhost:8080/"
        },
        "id": "gJgHO1XeM3YC",
        "outputId": "2c0abe7b-10ef-40eb-990a-39683a53239e"
      },
      "outputs": [
        {
          "output_type": "stream",
          "name": "stdout",
          "text": [
            "test\n"
          ]
        }
      ],
      "source": [
        "\n",
        "  def my_function():\n",
        "   print(\"test\")\n",
        "\n",
        "my_function()\n"
      ]
    },
    {
      "cell_type": "markdown",
      "source": [
        "# **Arguments**\n",
        "\n",
        "Information can be passed into functions as arguments.\n",
        "\n",
        "Arguments are specified after the function name, inside the parentheses.* You can add as many arguments as you want, just separate them with a comma. *"
      ],
      "metadata": {
        "id": "IDW7PDH6SzYI"
      }
    },
    {
      "cell_type": "code",
      "source": [
        "def my_function(fname):\n",
        "  print(\"Your \" + fname)\n",
        "\n",
        "my_function(\"Email\")\n",
        "my_function(\"Address\")\n",
        "my_function(\"Contact No.\")\n",
        "# Note: Indendation(Spacing) is to be used carefully!"
      ],
      "metadata": {
        "colab": {
          "base_uri": "https://localhost:8080/"
        },
        "id": "FRsfCIzhQeiF",
        "outputId": "f7166e1d-281a-42a9-a168-b94ee9478abe"
      },
      "execution_count": null,
      "outputs": [
        {
          "output_type": "stream",
          "name": "stdout",
          "text": [
            "Your Email\n",
            "Your Address\n",
            "Your Contact No.\n"
          ]
        }
      ]
    },
    {
      "cell_type": "markdown",
      "source": [
        "# Number of Arguments\n",
        "\n",
        "By default, a function must be called with the correct number of arguments. Meaning that if your function expects 2 arguments, you have to call the function with 2 arguments, not more, and not less."
      ],
      "metadata": {
        "id": "l8Jnb_UOTnNk"
      }
    },
    {
      "cell_type": "code",
      "source": [
        "def my_function(fname,lname):\n",
        "  #As you can what is written in parenthesis of functions describes how much arguments function can expect\n",
        "  print(\"Hello \" +  fname + \" \" + lname)\n",
        "\n",
        "my_function(\"Vinayak\",\"Narayan\")"
      ],
      "metadata": {
        "colab": {
          "base_uri": "https://localhost:8080/"
        },
        "id": "TU-3fc5nTsXD",
        "outputId": "2adf1bdb-4415-47f3-e2eb-05145aa9349f"
      },
      "execution_count": null,
      "outputs": [
        {
          "output_type": "stream",
          "name": "stdout",
          "text": [
            "Hello Vinayak Narayan\n"
          ]
        }
      ]
    },
    {
      "cell_type": "markdown",
      "source": [
        "# Arbitrary Arguments, *args\n",
        "\n",
        "If you do not know how many arguments that will be passed into your function, add a * before the parameter name in the function definition.\n",
        "This way the function will receive a tuple of arguments, and can access the items accordingly.This signifies If the number of arguments is unknown, add a * before the parameter name"
      ],
      "metadata": {
        "id": "3IRFJiUlU_kk"
      }
    },
    {
      "cell_type": "code",
      "source": [
        "def my_function(*kids):\n",
        "  print(\"The Eldest Child is \" + kids[1])\n",
        "\n",
        "my_function(\"Laxman\",\"Gopal\",\"Lucky\")"
      ],
      "metadata": {
        "colab": {
          "base_uri": "https://localhost:8080/"
        },
        "id": "za6cUokMVH3b",
        "outputId": "9c0b5a14-e360-41ee-dddd-a5ec9077748b"
      },
      "execution_count": null,
      "outputs": [
        {
          "output_type": "stream",
          "name": "stdout",
          "text": [
            "The Eldest Child is Gopal\n"
          ]
        }
      ]
    },
    {
      "cell_type": "markdown",
      "source": [
        "Arbitrary Arguments are often shortened to *args in Python documentations"
      ],
      "metadata": {
        "id": "IeEeVxwZWnUq"
      }
    },
    {
      "cell_type": "markdown",
      "source": [
        "# Keyword Arguments\n",
        "\n",
        "You can also send arguments with the key = value syntax.\n",
        "This way the order of the arguments does not matter.\n",
        "\n",
        "\n"
      ],
      "metadata": {
        "id": "DoVVxjb1W0O_"
      }
    },
    {
      "cell_type": "code",
      "source": [
        "def my_function(child3,child2,child1):\n",
        "  print(\"The Youngest Child is \" + child3)\n",
        "\n",
        "my_function(child1=\"Gopal\",child2=\"Laxman\",child3=\"Lucky\")\n"
      ],
      "metadata": {
        "id": "8eqs4naiXBNE",
        "colab": {
          "base_uri": "https://localhost:8080/"
        },
        "outputId": "5fe9a902-6e5a-40df-b768-1bd67bfa2412"
      },
      "execution_count": 22,
      "outputs": [
        {
          "output_type": "stream",
          "name": "stdout",
          "text": [
            "The Youngest Child is Lucky\n"
          ]
        }
      ]
    },
    {
      "cell_type": "markdown",
      "source": [
        "# Factorial Function"
      ],
      "metadata": {
        "id": "4BOXWCRbZaHg"
      }
    },
    {
      "cell_type": "code",
      "source": [
        "def factorial_value(num):\n",
        "  factorial=1\n",
        "\n",
        "  if num==0:\n",
        "    return factorial\n",
        "\n",
        "\n",
        "  else:\n",
        "    for i in range(1,num+1):\n",
        "     factorial= factorial*i\n",
        "    return factorial\n",
        "\n",
        "print(factorial_value(10))"
      ],
      "metadata": {
        "colab": {
          "base_uri": "https://localhost:8080/"
        },
        "id": "5Z0SDEASZYjf",
        "outputId": "2d8f2fe8-597f-49f8-f4fd-4b655ec991c6"
      },
      "execution_count": 32,
      "outputs": [
        {
          "output_type": "stream",
          "name": "stdout",
          "text": [
            "3628800\n"
          ]
        }
      ]
    }
  ]
}